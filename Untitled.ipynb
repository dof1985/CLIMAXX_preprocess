{
 "cells": [
  {
   "cell_type": "code",
   "execution_count": null,
   "id": "cfa3e939",
   "metadata": {},
   "outputs": [],
   "source": [
    "import os\n",
    "import pandas as pd\n",
    "from loguru import logger\n",
    "import geopandas as gpd\n",
    "from glob import glob\n",
    "import json\n",
    "from rasterstats import zonal_stats\n",
    "from datetime import datetime\n",
    "import xarray as xr\n",
    "import rasterio\n",
    "import numpy as np\n",
    "from shapely.geometry import mapping\n",
    "import rioxarray as rxr\n",
    "\n",
    "nc_directory = \"P:/watxene/ISIMIP/ISIMIP3b/InputData/climate_updated/bias-adjusted/historical\"\n",
    "file_starts = 'gfdl-esm4_r1i1p1f1_w5e5_historical_{}_global_daily_'\n",
    "nc_vars = ['pr']\n",
    "os.chdir(nc_directory)\n",
    "ncs = glob('**/*.nc')\n",
    "\n",
    "logger.info(f'Found {len(ncs)} files.')\n",
    "\n",
    "for nc_var in nc_vars:\n",
    "    nc_file_pattern = file_starts.format(nc_var)\n",
    "    #print(nc_file_pattern)\n",
    "    varfiles =  [f for f in ncs if nc_file_pattern in f]\n",
    "    logger.info(f'Loading {len(varfiles)} {nc_var} files...')\n",
    "    ds = xr.open_mfdataset(varfiles)\n",
    "    logger.info(f'Resampling {nc_var} by month...')\n",
    "    ds = ds.resample(time='M').mean() \n",
    "    print(ds)"
   ]
  }
 ],
 "metadata": {
  "kernelspec": {
   "display_name": "Python 3 (ipykernel)",
   "language": "python",
   "name": "python3"
  },
  "language_info": {
   "codemirror_mode": {
    "name": "ipython",
    "version": 3
   },
   "file_extension": ".py",
   "mimetype": "text/x-python",
   "name": "python",
   "nbconvert_exporter": "python",
   "pygments_lexer": "ipython3",
   "version": "3.11.3"
  }
 },
 "nbformat": 4,
 "nbformat_minor": 5
}
