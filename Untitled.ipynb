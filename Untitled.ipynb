{
 "cells": [
  {
   "cell_type": "code",
   "execution_count": null,
   "id": "cfa3e939",
   "metadata": {},
   "outputs": [],
   "source": [
    "import os\n",
    "import pandas as pd\n",
    "from loguru import logger\n",
    "import geopandas as gpd\n",
    "from glob import glob\n",
    "import json\n",
    "from rasterstats import zonal_stats\n",
    "from datetime import datetime\n",
    "import xarray as xr\n",
    "import rasterio\n",
    "import numpy as np\n",
    "from shapely.geometry import mapping\n",
    "import rioxarray as rxr\n",
    "\n",
    "nc_directory = \"P:/watxene/ISIMIP/ISIMIP3b/InputData/climate_updated/bias-adjusted/historical\"\n",
    "file_starts = 'gfdl-esm4_r1i1p1f1_w5e5_historical_{}_global_daily_'\n",
    "nc_vars = ['pr']\n",
    "os.chdir(nc_directory)\n",
    "ncs = glob('**/*.nc')\n",
    "\n",
    "logger.info(f'Found {len(ncs)} files.')\n",
    "\n",
    "# load nuts2 shape data\n",
    "print('Load NUTS2 map')\n",
    "workflow_folder = 'C:/Users/artuso/Documents/CLIMAXX/preprocessing/New-folder'\n",
    "shapefile = os.path.join(workflow_folder, \"NUTS_RG_20M_2021_4326.shp\")\n",
    "nuts = gpd.read_file(shapefile)\n",
    "out_raster = \"out_raster.tif\"\n",
    "\n",
    "for nc_var in nc_vars: \n",
    "    #if does not work install dependencies netcdf4, h5netcdf and dask\n",
    "    nc_file_pattern = file_starts.format(nc_var)\n",
    "    #print(nc_file_pattern)\n",
    "    varfiles =  [f for f in ncs if nc_file_pattern in f]\n",
    "    logger.info(f'Loading {len(varfiles)} {nc_var} files...')\n",
    "    ds = xr.open_mfdataset(varfiles)\n",
    "    logger.info(f'Resampling {nc_var} by month...')\n",
    "    ds = ds.resample(time='M').mean()\n",
    "    if ds.rio.crs is None:\n",
    "        ds.rio.write_crs(4326, inplace=True)\n",
    "    ds_clipped = ds.rio.clip(nuts.geometry.apply(mapping), nuts.crs)\n",
    "    # ds_clipped.rio.to_raster(out_raster) #rioxarray.exceptions.TooManyDimensions: Only 2D and 3D data arrays supported.\n",
    "    # logger.info(f'{out_raster} saved.')\n",
    "# print(ds.rio.crs)\n",
    "# print(nuts.crs)"
   ]
  }
 ],
 "metadata": {
  "kernelspec": {
   "display_name": "Python 3 (ipykernel)",
   "language": "python",
   "name": "python3"
  },
  "language_info": {
   "codemirror_mode": {
    "name": "ipython",
    "version": 3
   },
   "file_extension": ".py",
   "mimetype": "text/x-python",
   "name": "python",
   "nbconvert_exporter": "python",
   "pygments_lexer": "ipython3",
   "version": "3.11.3"
  }
 },
 "nbformat": 4,
 "nbformat_minor": 5
}
